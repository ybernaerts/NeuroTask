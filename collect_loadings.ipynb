{
 "cells": [
  {
   "cell_type": "code",
   "execution_count": 24,
   "id": "fd71e9e0-c50d-4089-875e-93fd420592e6",
   "metadata": {
    "tags": []
   },
   "outputs": [],
   "source": [
    "import pickle\n",
    "import os"
   ]
  },
  {
   "cell_type": "code",
   "execution_count": 25,
   "id": "3e66ff1e-1729-496c-be80-948c25bd0ae8",
   "metadata": {
    "tags": []
   },
   "outputs": [],
   "source": [
    "datasets = []\n",
    "for root, dirs, files in os.walk('./save_pickles'):\n",
    "    for file in files:\n",
    "        if file.endswith('.pickle'):\n",
    "            datasets.append(root + '/' + file)"
   ]
  },
  {
   "cell_type": "code",
   "execution_count": 17,
   "id": "329b6094-d95b-4760-a7d2-852ba8574f0b",
   "metadata": {
    "tags": []
   },
   "outputs": [
    {
     "name": "stdout",
     "output_type": "stream",
     "text": [
      "1_4_Makin2_RT_animal_1_session_11_latent_dim_6\n"
     ]
    }
   ],
   "source": [
    "for dataset in datasets[:1]:\n",
    "    print(dataset.split('/')[2][:-7])"
   ]
  },
  {
   "cell_type": "code",
   "execution_count": 27,
   "id": "bcc255bc-5abf-4923-8e7f-912204d74f4e",
   "metadata": {
    "tags": []
   },
   "outputs": [],
   "source": [
    "for dataset in datasets:\n",
    "    with open(dataset, 'rb') as f:\n",
    "        results = pickle.load(f)\n",
    "    with open(('save_loadings/'+dataset.split('/')[2][:-7]+'_C.pickle'), 'wb') as f:\n",
    "        pickle.dump(\n",
    "            {\n",
    "                'C': results['params']['C'],\n",
    "                'Corth': results['params']['Corth'],\n",
    "                'gamma': results['params']['gamma'],\n",
    "            }, f\n",
    "        )"
   ]
  }
 ],
 "metadata": {
  "kernelspec": {
   "display_name": "Python 3 (ipykernel)",
   "language": "python",
   "name": "python3"
  },
  "language_info": {
   "codemirror_mode": {
    "name": "ipython",
    "version": 3
   },
   "file_extension": ".py",
   "mimetype": "text/x-python",
   "name": "python",
   "nbconvert_exporter": "python",
   "pygments_lexer": "ipython3",
   "version": "3.11.4"
  }
 },
 "nbformat": 4,
 "nbformat_minor": 5
}
