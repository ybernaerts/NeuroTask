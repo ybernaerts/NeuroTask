{
 "cells": [
  {
   "cell_type": "code",
   "execution_count": 126,
   "id": "ea164796-3ca2-4936-82c3-dda93b9a028c",
   "metadata": {
    "tags": []
   },
   "outputs": [],
   "source": [
    "import numpy as np\n",
    "import torch\n",
    "#from scipy import io\n",
    "#from scipy import stats\n",
    "import pickle\n",
    "\n",
    "from api_neurotask import *\n",
    "#from preprocessing_funcs import *\n",
    "\n",
    "import matplotlib.pyplot as plt\n",
    "import seaborn as sns\n",
    "from plot_utils import adjust_spines"
   ]
  },
  {
   "cell_type": "markdown",
   "id": "20b78d51-9cae-4a08-9365-9ef671fd33ce",
   "metadata": {
    "tags": []
   },
   "source": [
    "### Load dataset"
   ]
  },
  {
   "cell_type": "markdown",
   "id": "629b19de-3055-42b4-99be-adbd21d31acd",
   "metadata": {},
   "source": [
    "Datasets are stored as .parquet (columnar) files and the name reveals data_set_id, bin_size and data_set_name respectively."
   ]
  },
  {
   "cell_type": "code",
   "execution_count": 10,
   "id": "d583e725-85f2-431d-b6fe-81e34b9e789d",
   "metadata": {
    "tags": []
   },
   "outputs": [
    {
     "name": "stdout",
     "output_type": "stream",
     "text": [
      "Data loaded from data/4_1_MaXuan_CO.parquet with bin size of 1 ms\n",
      "Events columns: ['EventGo_cue', 'EventTarget_Onset']\n",
      "Covariates columns: ['force_x', 'force_y', 'target_dir', 'cursor_pos_x', 'cursor_pos_y', 'cursor_vel_x', 'cursor_vel_y', 'cursor_acc_x', 'cursor_acc_y', 'target_ID']\n"
     ]
    }
   ],
   "source": [
    "parquet_file_path = 'data/4_1_MaXuan_CO.parquet'\n",
    "df, bin = load_and_filter_parquet(parquet_file_path, ['A', 'I','F'])"
   ]
  },
  {
   "cell_type": "code",
   "execution_count": 11,
   "id": "8193a98f-9fca-4a5b-a523-db8e9545b501",
   "metadata": {
    "tags": []
   },
   "outputs": [
    {
     "data": {
      "text/plain": [
       "1.0"
      ]
     },
     "execution_count": 11,
     "metadata": {},
     "output_type": "execute_result"
    }
   ],
   "source": [
    "bin # ms"
   ]
  },
  {
   "cell_type": "code",
   "execution_count": 24,
   "id": "1b81d918-8a44-4df2-92bf-234f60601c99",
   "metadata": {
    "tags": []
   },
   "outputs": [
    {
     "data": {
      "text/html": [
       "<div>\n",
       "<style scoped>\n",
       "    .dataframe tbody tr th:only-of-type {\n",
       "        vertical-align: middle;\n",
       "    }\n",
       "\n",
       "    .dataframe tbody tr th {\n",
       "        vertical-align: top;\n",
       "    }\n",
       "\n",
       "    .dataframe thead th {\n",
       "        text-align: right;\n",
       "    }\n",
       "</style>\n",
       "<table border=\"1\" class=\"dataframe\">\n",
       "  <thead>\n",
       "    <tr style=\"text-align: right;\">\n",
       "      <th></th>\n",
       "      <th>Neuron1</th>\n",
       "      <th>Neuron2</th>\n",
       "      <th>Neuron3</th>\n",
       "      <th>Neuron4</th>\n",
       "      <th>Neuron5</th>\n",
       "      <th>Neuron6</th>\n",
       "      <th>Neuron7</th>\n",
       "      <th>Neuron8</th>\n",
       "      <th>Neuron9</th>\n",
       "      <th>Neuron10</th>\n",
       "      <th>...</th>\n",
       "      <th>cursor_pos_x</th>\n",
       "      <th>cursor_pos_y</th>\n",
       "      <th>cursor_vel_x</th>\n",
       "      <th>cursor_vel_y</th>\n",
       "      <th>cursor_acc_x</th>\n",
       "      <th>cursor_acc_y</th>\n",
       "      <th>target_ID</th>\n",
       "      <th>datasetID</th>\n",
       "      <th>EventGo_cue</th>\n",
       "      <th>EventTarget_Onset</th>\n",
       "    </tr>\n",
       "  </thead>\n",
       "  <tbody>\n",
       "    <tr>\n",
       "      <th>6638102</th>\n",
       "      <td>0.0</td>\n",
       "      <td>0.0</td>\n",
       "      <td>0.0</td>\n",
       "      <td>0.0</td>\n",
       "      <td>0.0</td>\n",
       "      <td>0.0</td>\n",
       "      <td>0.0</td>\n",
       "      <td>0.0</td>\n",
       "      <td>1.0</td>\n",
       "      <td>0.0</td>\n",
       "      <td>...</td>\n",
       "      <td>0.759504</td>\n",
       "      <td>-0.675056</td>\n",
       "      <td>0.487150</td>\n",
       "      <td>0.138853</td>\n",
       "      <td>2.127123</td>\n",
       "      <td>0.398631</td>\n",
       "      <td>7.0</td>\n",
       "      <td>4</td>\n",
       "      <td>False</td>\n",
       "      <td>False</td>\n",
       "    </tr>\n",
       "    <tr>\n",
       "      <th>6638103</th>\n",
       "      <td>0.0</td>\n",
       "      <td>0.0</td>\n",
       "      <td>0.0</td>\n",
       "      <td>0.0</td>\n",
       "      <td>0.0</td>\n",
       "      <td>0.0</td>\n",
       "      <td>0.0</td>\n",
       "      <td>0.0</td>\n",
       "      <td>0.0</td>\n",
       "      <td>0.0</td>\n",
       "      <td>...</td>\n",
       "      <td>0.759992</td>\n",
       "      <td>-0.674917</td>\n",
       "      <td>0.489251</td>\n",
       "      <td>0.139238</td>\n",
       "      <td>2.074719</td>\n",
       "      <td>0.372236</td>\n",
       "      <td>7.0</td>\n",
       "      <td>4</td>\n",
       "      <td>False</td>\n",
       "      <td>False</td>\n",
       "    </tr>\n",
       "    <tr>\n",
       "      <th>6638104</th>\n",
       "      <td>0.0</td>\n",
       "      <td>0.0</td>\n",
       "      <td>0.0</td>\n",
       "      <td>0.0</td>\n",
       "      <td>1.0</td>\n",
       "      <td>0.0</td>\n",
       "      <td>0.0</td>\n",
       "      <td>0.0</td>\n",
       "      <td>1.0</td>\n",
       "      <td>0.0</td>\n",
       "      <td>...</td>\n",
       "      <td>0.760482</td>\n",
       "      <td>-0.674777</td>\n",
       "      <td>0.491300</td>\n",
       "      <td>0.139597</td>\n",
       "      <td>2.022440</td>\n",
       "      <td>0.346138</td>\n",
       "      <td>7.0</td>\n",
       "      <td>4</td>\n",
       "      <td>False</td>\n",
       "      <td>False</td>\n",
       "    </tr>\n",
       "    <tr>\n",
       "      <th>6638105</th>\n",
       "      <td>0.0</td>\n",
       "      <td>0.0</td>\n",
       "      <td>0.0</td>\n",
       "      <td>0.0</td>\n",
       "      <td>0.0</td>\n",
       "      <td>0.0</td>\n",
       "      <td>0.0</td>\n",
       "      <td>0.0</td>\n",
       "      <td>0.0</td>\n",
       "      <td>0.0</td>\n",
       "      <td>...</td>\n",
       "      <td>0.760975</td>\n",
       "      <td>-0.674637</td>\n",
       "      <td>0.493296</td>\n",
       "      <td>0.139930</td>\n",
       "      <td>1.970333</td>\n",
       "      <td>0.320364</td>\n",
       "      <td>7.0</td>\n",
       "      <td>4</td>\n",
       "      <td>False</td>\n",
       "      <td>False</td>\n",
       "    </tr>\n",
       "    <tr>\n",
       "      <th>6638106</th>\n",
       "      <td>0.0</td>\n",
       "      <td>0.0</td>\n",
       "      <td>0.0</td>\n",
       "      <td>0.0</td>\n",
       "      <td>0.0</td>\n",
       "      <td>0.0</td>\n",
       "      <td>0.0</td>\n",
       "      <td>0.0</td>\n",
       "      <td>0.0</td>\n",
       "      <td>0.0</td>\n",
       "      <td>...</td>\n",
       "      <td>0.761469</td>\n",
       "      <td>-0.674497</td>\n",
       "      <td>0.495240</td>\n",
       "      <td>0.140238</td>\n",
       "      <td>1.918452</td>\n",
       "      <td>0.294940</td>\n",
       "      <td>7.0</td>\n",
       "      <td>4</td>\n",
       "      <td>False</td>\n",
       "      <td>False</td>\n",
       "    </tr>\n",
       "    <tr>\n",
       "      <th>...</th>\n",
       "      <td>...</td>\n",
       "      <td>...</td>\n",
       "      <td>...</td>\n",
       "      <td>...</td>\n",
       "      <td>...</td>\n",
       "      <td>...</td>\n",
       "      <td>...</td>\n",
       "      <td>...</td>\n",
       "      <td>...</td>\n",
       "      <td>...</td>\n",
       "      <td>...</td>\n",
       "      <td>...</td>\n",
       "      <td>...</td>\n",
       "      <td>...</td>\n",
       "      <td>...</td>\n",
       "      <td>...</td>\n",
       "      <td>...</td>\n",
       "      <td>...</td>\n",
       "      <td>...</td>\n",
       "      <td>...</td>\n",
       "      <td>...</td>\n",
       "    </tr>\n",
       "    <tr>\n",
       "      <th>7350876</th>\n",
       "      <td>0.0</td>\n",
       "      <td>0.0</td>\n",
       "      <td>0.0</td>\n",
       "      <td>0.0</td>\n",
       "      <td>0.0</td>\n",
       "      <td>0.0</td>\n",
       "      <td>0.0</td>\n",
       "      <td>0.0</td>\n",
       "      <td>0.0</td>\n",
       "      <td>0.0</td>\n",
       "      <td>...</td>\n",
       "      <td>0.796602</td>\n",
       "      <td>-0.882786</td>\n",
       "      <td>0.100641</td>\n",
       "      <td>0.070497</td>\n",
       "      <td>0.101366</td>\n",
       "      <td>2.532269</td>\n",
       "      <td>4.0</td>\n",
       "      <td>4</td>\n",
       "      <td>False</td>\n",
       "      <td>False</td>\n",
       "    </tr>\n",
       "    <tr>\n",
       "      <th>7350877</th>\n",
       "      <td>0.0</td>\n",
       "      <td>0.0</td>\n",
       "      <td>0.0</td>\n",
       "      <td>0.0</td>\n",
       "      <td>0.0</td>\n",
       "      <td>0.0</td>\n",
       "      <td>0.0</td>\n",
       "      <td>0.0</td>\n",
       "      <td>0.0</td>\n",
       "      <td>0.0</td>\n",
       "      <td>...</td>\n",
       "      <td>0.796702</td>\n",
       "      <td>-0.882715</td>\n",
       "      <td>0.100734</td>\n",
       "      <td>0.073034</td>\n",
       "      <td>0.083374</td>\n",
       "      <td>2.542185</td>\n",
       "      <td>4.0</td>\n",
       "      <td>4</td>\n",
       "      <td>False</td>\n",
       "      <td>False</td>\n",
       "    </tr>\n",
       "    <tr>\n",
       "      <th>7350878</th>\n",
       "      <td>0.0</td>\n",
       "      <td>0.0</td>\n",
       "      <td>0.0</td>\n",
       "      <td>0.0</td>\n",
       "      <td>0.0</td>\n",
       "      <td>0.0</td>\n",
       "      <td>0.0</td>\n",
       "      <td>0.0</td>\n",
       "      <td>0.0</td>\n",
       "      <td>0.0</td>\n",
       "      <td>...</td>\n",
       "      <td>0.796803</td>\n",
       "      <td>-0.882640</td>\n",
       "      <td>0.100808</td>\n",
       "      <td>0.075581</td>\n",
       "      <td>0.065299</td>\n",
       "      <td>2.550297</td>\n",
       "      <td>4.0</td>\n",
       "      <td>4</td>\n",
       "      <td>False</td>\n",
       "      <td>False</td>\n",
       "    </tr>\n",
       "    <tr>\n",
       "      <th>7350879</th>\n",
       "      <td>0.0</td>\n",
       "      <td>0.0</td>\n",
       "      <td>0.0</td>\n",
       "      <td>0.0</td>\n",
       "      <td>0.0</td>\n",
       "      <td>0.0</td>\n",
       "      <td>0.0</td>\n",
       "      <td>0.0</td>\n",
       "      <td>0.0</td>\n",
       "      <td>0.0</td>\n",
       "      <td>...</td>\n",
       "      <td>0.796904</td>\n",
       "      <td>-0.882563</td>\n",
       "      <td>0.100864</td>\n",
       "      <td>0.078135</td>\n",
       "      <td>0.047124</td>\n",
       "      <td>2.556706</td>\n",
       "      <td>4.0</td>\n",
       "      <td>4</td>\n",
       "      <td>False</td>\n",
       "      <td>False</td>\n",
       "    </tr>\n",
       "    <tr>\n",
       "      <th>7350880</th>\n",
       "      <td>0.0</td>\n",
       "      <td>0.0</td>\n",
       "      <td>0.0</td>\n",
       "      <td>0.0</td>\n",
       "      <td>0.0</td>\n",
       "      <td>0.0</td>\n",
       "      <td>0.0</td>\n",
       "      <td>0.0</td>\n",
       "      <td>0.0</td>\n",
       "      <td>0.0</td>\n",
       "      <td>...</td>\n",
       "      <td>0.797005</td>\n",
       "      <td>-0.882484</td>\n",
       "      <td>0.100902</td>\n",
       "      <td>0.080694</td>\n",
       "      <td>0.028832</td>\n",
       "      <td>2.561517</td>\n",
       "      <td>4.0</td>\n",
       "      <td>4</td>\n",
       "      <td>False</td>\n",
       "      <td>False</td>\n",
       "    </tr>\n",
       "  </tbody>\n",
       "</table>\n",
       "<p>704392 rows × 114 columns</p>\n",
       "</div>"
      ],
      "text/plain": [
       "         Neuron1  Neuron2  Neuron3  Neuron4  Neuron5  Neuron6  Neuron7  \\\n",
       "6638102      0.0      0.0      0.0      0.0      0.0      0.0      0.0   \n",
       "6638103      0.0      0.0      0.0      0.0      0.0      0.0      0.0   \n",
       "6638104      0.0      0.0      0.0      0.0      1.0      0.0      0.0   \n",
       "6638105      0.0      0.0      0.0      0.0      0.0      0.0      0.0   \n",
       "6638106      0.0      0.0      0.0      0.0      0.0      0.0      0.0   \n",
       "...          ...      ...      ...      ...      ...      ...      ...   \n",
       "7350876      0.0      0.0      0.0      0.0      0.0      0.0      0.0   \n",
       "7350877      0.0      0.0      0.0      0.0      0.0      0.0      0.0   \n",
       "7350878      0.0      0.0      0.0      0.0      0.0      0.0      0.0   \n",
       "7350879      0.0      0.0      0.0      0.0      0.0      0.0      0.0   \n",
       "7350880      0.0      0.0      0.0      0.0      0.0      0.0      0.0   \n",
       "\n",
       "         Neuron8  Neuron9  Neuron10  ...  cursor_pos_x  cursor_pos_y  \\\n",
       "6638102      0.0      1.0       0.0  ...      0.759504     -0.675056   \n",
       "6638103      0.0      0.0       0.0  ...      0.759992     -0.674917   \n",
       "6638104      0.0      1.0       0.0  ...      0.760482     -0.674777   \n",
       "6638105      0.0      0.0       0.0  ...      0.760975     -0.674637   \n",
       "6638106      0.0      0.0       0.0  ...      0.761469     -0.674497   \n",
       "...          ...      ...       ...  ...           ...           ...   \n",
       "7350876      0.0      0.0       0.0  ...      0.796602     -0.882786   \n",
       "7350877      0.0      0.0       0.0  ...      0.796702     -0.882715   \n",
       "7350878      0.0      0.0       0.0  ...      0.796803     -0.882640   \n",
       "7350879      0.0      0.0       0.0  ...      0.796904     -0.882563   \n",
       "7350880      0.0      0.0       0.0  ...      0.797005     -0.882484   \n",
       "\n",
       "         cursor_vel_x  cursor_vel_y  cursor_acc_x  cursor_acc_y  target_ID  \\\n",
       "6638102      0.487150      0.138853      2.127123      0.398631        7.0   \n",
       "6638103      0.489251      0.139238      2.074719      0.372236        7.0   \n",
       "6638104      0.491300      0.139597      2.022440      0.346138        7.0   \n",
       "6638105      0.493296      0.139930      1.970333      0.320364        7.0   \n",
       "6638106      0.495240      0.140238      1.918452      0.294940        7.0   \n",
       "...               ...           ...           ...           ...        ...   \n",
       "7350876      0.100641      0.070497      0.101366      2.532269        4.0   \n",
       "7350877      0.100734      0.073034      0.083374      2.542185        4.0   \n",
       "7350878      0.100808      0.075581      0.065299      2.550297        4.0   \n",
       "7350879      0.100864      0.078135      0.047124      2.556706        4.0   \n",
       "7350880      0.100902      0.080694      0.028832      2.561517        4.0   \n",
       "\n",
       "         datasetID  EventGo_cue  EventTarget_Onset  \n",
       "6638102          4        False              False  \n",
       "6638103          4        False              False  \n",
       "6638104          4        False              False  \n",
       "6638105          4        False              False  \n",
       "6638106          4        False              False  \n",
       "...            ...          ...                ...  \n",
       "7350876          4        False              False  \n",
       "7350877          4        False              False  \n",
       "7350878          4        False              False  \n",
       "7350879          4        False              False  \n",
       "7350880          4        False              False  \n",
       "\n",
       "[704392 rows x 114 columns]"
      ]
     },
     "execution_count": 24,
     "metadata": {},
     "output_type": "execute_result"
    }
   ],
   "source": [
    "df[(df['animal']==df['animal'].unique()[0])&(df['session']==df['session'].unique()[0])]"
   ]
  },
  {
   "cell_type": "code",
   "execution_count": 27,
   "id": "2cb38444-c251-4f87-9c34-bd404f682404",
   "metadata": {
    "tags": []
   },
   "outputs": [
    {
     "data": {
      "text/html": [
       "<div>\n",
       "<style scoped>\n",
       "    .dataframe tbody tr th:only-of-type {\n",
       "        vertical-align: middle;\n",
       "    }\n",
       "\n",
       "    .dataframe tbody tr th {\n",
       "        vertical-align: top;\n",
       "    }\n",
       "\n",
       "    .dataframe thead th {\n",
       "        text-align: right;\n",
       "    }\n",
       "</style>\n",
       "<table border=\"1\" class=\"dataframe\">\n",
       "  <thead>\n",
       "    <tr style=\"text-align: right;\">\n",
       "      <th></th>\n",
       "      <th>animal</th>\n",
       "      <th>session</th>\n",
       "      <th>unique_trials_per_session</th>\n",
       "    </tr>\n",
       "  </thead>\n",
       "  <tbody>\n",
       "    <tr>\n",
       "      <th>0</th>\n",
       "      <td>2</td>\n",
       "      <td>1</td>\n",
       "      <td>191</td>\n",
       "    </tr>\n",
       "    <tr>\n",
       "      <th>1</th>\n",
       "      <td>2</td>\n",
       "      <td>2</td>\n",
       "      <td>207</td>\n",
       "    </tr>\n",
       "    <tr>\n",
       "      <th>2</th>\n",
       "      <td>2</td>\n",
       "      <td>3</td>\n",
       "      <td>209</td>\n",
       "    </tr>\n",
       "    <tr>\n",
       "      <th>3</th>\n",
       "      <td>2</td>\n",
       "      <td>4</td>\n",
       "      <td>205</td>\n",
       "    </tr>\n",
       "    <tr>\n",
       "      <th>4</th>\n",
       "      <td>2</td>\n",
       "      <td>5</td>\n",
       "      <td>210</td>\n",
       "    </tr>\n",
       "    <tr>\n",
       "      <th>5</th>\n",
       "      <td>2</td>\n",
       "      <td>6</td>\n",
       "      <td>171</td>\n",
       "    </tr>\n",
       "    <tr>\n",
       "      <th>6</th>\n",
       "      <td>2</td>\n",
       "      <td>7</td>\n",
       "      <td>199</td>\n",
       "    </tr>\n",
       "    <tr>\n",
       "      <th>7</th>\n",
       "      <td>2</td>\n",
       "      <td>8</td>\n",
       "      <td>239</td>\n",
       "    </tr>\n",
       "    <tr>\n",
       "      <th>8</th>\n",
       "      <td>2</td>\n",
       "      <td>9</td>\n",
       "      <td>239</td>\n",
       "    </tr>\n",
       "    <tr>\n",
       "      <th>9</th>\n",
       "      <td>2</td>\n",
       "      <td>10</td>\n",
       "      <td>208</td>\n",
       "    </tr>\n",
       "    <tr>\n",
       "      <th>10</th>\n",
       "      <td>2</td>\n",
       "      <td>11</td>\n",
       "      <td>213</td>\n",
       "    </tr>\n",
       "    <tr>\n",
       "      <th>11</th>\n",
       "      <td>2</td>\n",
       "      <td>12</td>\n",
       "      <td>205</td>\n",
       "    </tr>\n",
       "    <tr>\n",
       "      <th>12</th>\n",
       "      <td>3</td>\n",
       "      <td>1</td>\n",
       "      <td>182</td>\n",
       "    </tr>\n",
       "    <tr>\n",
       "      <th>13</th>\n",
       "      <td>3</td>\n",
       "      <td>2</td>\n",
       "      <td>176</td>\n",
       "    </tr>\n",
       "    <tr>\n",
       "      <th>14</th>\n",
       "      <td>3</td>\n",
       "      <td>3</td>\n",
       "      <td>208</td>\n",
       "    </tr>\n",
       "    <tr>\n",
       "      <th>15</th>\n",
       "      <td>3</td>\n",
       "      <td>4</td>\n",
       "      <td>225</td>\n",
       "    </tr>\n",
       "    <tr>\n",
       "      <th>16</th>\n",
       "      <td>3</td>\n",
       "      <td>5</td>\n",
       "      <td>185</td>\n",
       "    </tr>\n",
       "    <tr>\n",
       "      <th>17</th>\n",
       "      <td>3</td>\n",
       "      <td>6</td>\n",
       "      <td>198</td>\n",
       "    </tr>\n",
       "    <tr>\n",
       "      <th>18</th>\n",
       "      <td>3</td>\n",
       "      <td>7</td>\n",
       "      <td>195</td>\n",
       "    </tr>\n",
       "    <tr>\n",
       "      <th>19</th>\n",
       "      <td>3</td>\n",
       "      <td>8</td>\n",
       "      <td>209</td>\n",
       "    </tr>\n",
       "    <tr>\n",
       "      <th>20</th>\n",
       "      <td>3</td>\n",
       "      <td>9</td>\n",
       "      <td>203</td>\n",
       "    </tr>\n",
       "    <tr>\n",
       "      <th>21</th>\n",
       "      <td>3</td>\n",
       "      <td>10</td>\n",
       "      <td>219</td>\n",
       "    </tr>\n",
       "    <tr>\n",
       "      <th>22</th>\n",
       "      <td>3</td>\n",
       "      <td>11</td>\n",
       "      <td>216</td>\n",
       "    </tr>\n",
       "  </tbody>\n",
       "</table>\n",
       "</div>"
      ],
      "text/plain": [
       "    animal  session  unique_trials_per_session\n",
       "0        2        1                        191\n",
       "1        2        2                        207\n",
       "2        2        3                        209\n",
       "3        2        4                        205\n",
       "4        2        5                        210\n",
       "5        2        6                        171\n",
       "6        2        7                        199\n",
       "7        2        8                        239\n",
       "8        2        9                        239\n",
       "9        2       10                        208\n",
       "10       2       11                        213\n",
       "11       2       12                        205\n",
       "12       3        1                        182\n",
       "13       3        2                        176\n",
       "14       3        3                        208\n",
       "15       3        4                        225\n",
       "16       3        5                        185\n",
       "17       3        6                        198\n",
       "18       3        7                        195\n",
       "19       3        8                        209\n",
       "20       3        9                        203\n",
       "21       3       10                        219\n",
       "22       3       11                        216"
      ]
     },
     "execution_count": 27,
     "metadata": {},
     "output_type": "execute_result"
    }
   ],
   "source": [
    "df.groupby(['animal', 'session'])['trial_id'].nunique().reset_index(name='unique_trials_per_session')"
   ]
  },
  {
   "cell_type": "code",
   "execution_count": 12,
   "id": "b952cacc-624b-490c-af3f-9e2e6a122349",
   "metadata": {
    "tags": []
   },
   "outputs": [],
   "source": [
    "neurons = [neuron for neuron in df.columns if neuron.startswith('Neuron')]"
   ]
  },
  {
   "cell_type": "code",
   "execution_count": 56,
   "id": "03f531de-c265-42dc-9b69-63377d1e29d7",
   "metadata": {
    "tags": []
   },
   "outputs": [
    {
     "data": {
      "text/plain": [
       "['EventGo_cue', 'EventTarget_Onset']"
      ]
     },
     "execution_count": 56,
     "metadata": {},
     "output_type": "execute_result"
    }
   ],
   "source": [
    "[col for col in df.columns if col.startswith('Event')]"
   ]
  },
  {
   "cell_type": "markdown",
   "id": "71305ec8-1ea1-47f0-8795-144a50b00439",
   "metadata": {},
   "source": [
    "### Preprocess for GPFA"
   ]
  },
  {
   "cell_type": "markdown",
   "id": "1b16bf55-6c5b-4fe2-b8ce-08466a1bc9bd",
   "metadata": {},
   "source": [
    "For a session and animal of choice, convert dataframe to list of numpy array spike trains. You can also choose larger bin sizes with rebin()."
   ]
  },
  {
   "cell_type": "code",
   "execution_count": 18,
   "id": "eff6dbc6-cb89-4331-9d55-dfcb341ae6ef",
   "metadata": {
    "tags": []
   },
   "outputs": [],
   "source": [
    "from gpfa_utils import dataframe_to_spike_trains"
   ]
  },
  {
   "cell_type": "code",
   "execution_count": 29,
   "id": "a5bf57f4-8b38-4692-9903-4ce491e68ae0",
   "metadata": {
    "tags": []
   },
   "outputs": [],
   "source": [
    "session_id=9\n",
    "animal_id=2"
   ]
  },
  {
   "cell_type": "code",
   "execution_count": 31,
   "id": "255a0ecf-40a8-4b5a-bbb9-91c36fe752c9",
   "metadata": {
    "tags": []
   },
   "outputs": [],
   "source": [
    "re_sample=10\n",
    "df_gpfa = df[(df['animal']==animal_id)&(df['session']==session_id)]\n",
    "df_gpfa = rebin(df_gpfa, prev_bin_size = bin, new_bin_size = 10)"
   ]
  },
  {
   "cell_type": "code",
   "execution_count": 36,
   "id": "a1d055b5-63f2-4c5a-b3de-4950fefa5c7d",
   "metadata": {
    "tags": []
   },
   "outputs": [
    {
     "data": {
      "text/plain": [
       "10.0"
      ]
     },
     "execution_count": 36,
     "metadata": {},
     "output_type": "execute_result"
    }
   ],
   "source": [
    "dt=bin*re_sample # ms\n",
    "dt"
   ]
  },
  {
   "cell_type": "code",
   "execution_count": 38,
   "id": "f881508c-60a5-40b5-aea6-a1b925d9d4fd",
   "metadata": {
    "tags": []
   },
   "outputs": [],
   "source": [
    "seqs = dataframe_to_spike_trains(df_gpfa, neurons)"
   ]
  },
  {
   "cell_type": "code",
   "execution_count": 40,
   "id": "68c6ae98-60f3-43cb-923a-79d22fb4f69d",
   "metadata": {
    "tags": []
   },
   "outputs": [
    {
     "data": {
      "text/plain": [
       "(398, array([[0.        , 0.        , 0.        , ..., 0.        , 0.        ,\n",
       "        0.        ],\n",
       "       [0.        , 0.        , 0.        , ..., 0.        , 0.        ,\n",
       "        0.        ],\n",
       "       [0.        , 0.        , 0.        , ..., 0.        , 0.        ,\n",
       "        0.        ],\n",
       "       ...,\n",
       "       [0.        , 0.        , 0.        , ..., 0.        , 0.        ,\n",
       "        0.        ],\n",
       "       [1.        , 0.        , 0.        , ..., 1.41421356, 0.        ,\n",
       "        0.        ],\n",
       "       [0.        , 0.        , 1.        , ..., 0.        , 1.        ,\n",
       "        0.        ]]))"
      ]
     },
     "execution_count": 40,
     "metadata": {},
     "output_type": "execute_result"
    }
   ],
   "source": [
    "seqs[0] # (bins, square root transform of dense array)"
   ]
  },
  {
   "cell_type": "code",
   "execution_count": 42,
   "id": "1d6ca9b7-9cd6-419d-8490-65b974234804",
   "metadata": {
    "tags": []
   },
   "outputs": [
    {
     "data": {
      "text/plain": [
       "(95, 398)"
      ]
     },
     "execution_count": 42,
     "metadata": {},
     "output_type": "execute_result"
    }
   ],
   "source": [
    "seqs[0][1].shape # (neurons, bins)"
   ]
  },
  {
   "cell_type": "code",
   "execution_count": 44,
   "id": "8ea50916-a18c-4c34-8785-5ca6dece3f95",
   "metadata": {
    "tags": []
   },
   "outputs": [
    {
     "data": {
      "text/plain": [
       "10.0"
      ]
     },
     "execution_count": 44,
     "metadata": {},
     "output_type": "execute_result"
    }
   ],
   "source": [
    "dt"
   ]
  },
  {
   "cell_type": "markdown",
   "id": "5b1f4a8a-adf7-47a1-ba7b-20bb5de2ea05",
   "metadata": {},
   "source": [
    "### GPFA"
   ]
  },
  {
   "cell_type": "code",
   "execution_count": 47,
   "id": "fcf288b1-36ae-40d7-b928-9f1e93cb0e2f",
   "metadata": {
    "tags": []
   },
   "outputs": [],
   "source": [
    "latent_dimensionality=12\n",
    "min_var_frac=0.01\n",
    "min_var_frac_explanation=\"\"\"fraction of overall data variance for each observed dimension to set as\n",
    "        the private variance floor.  This is used to combat Heywood cases,\n",
    "        where ML parameter learning returns one or more zero private variances.\n",
    "        Default: 0.01\n",
    "        (See Martin & McDonald, Psychometrika, Dec 1975.)\"\"\"\n",
    "\n",
    "tau_init=100.0 # ms # GP timescale initialization in msec\n",
    "eps_init=1.0e-3 # GP noise variance initialization\n",
    "em_tol=1.0e-8 # stopping criterion for EM\n",
    "em_max_iters=500 # max EM iterations\n",
    "freq_ll=5 # every freq_ll steps in EM likelihood is computed\n",
    "verbose=False # feedback or not\n",
    "\n",
    "bin_width=dt # ms\n",
    "#tau_init=tau_init.rescale(\"ms\").magnitude\n",
    "\n",
    "verbose = False # print fitting info"
   ]
  },
  {
   "cell_type": "code",
   "execution_count": 49,
   "id": "f1efe5b4-c787-45e0-830b-fce96a44f0fa",
   "metadata": {
    "tags": []
   },
   "outputs": [],
   "source": [
    "# Check if training data covariance is full rank\n",
    "y_all = np.hstack(seqs[\"y\"])\n",
    "y_dim = y_all.shape[0]\n",
    "\n",
    "if np.linalg.matrix_rank(np.cov(y_all)) < y_dim:\n",
    "    errmesg = (\n",
    "        \"Observation covariance matrix is rank deficient.\\n\"\n",
    "        \"Possible causes: \"\n",
    "        \"repeated units, not enough observations.\"\n",
    "    )\n",
    "    raise ValueError(errmesg)"
   ]
  },
  {
   "cell_type": "code",
   "execution_count": 51,
   "id": "7412d3ee-e20f-4ccd-be33-bee781e1e123",
   "metadata": {
    "tags": []
   },
   "outputs": [],
   "source": [
    "if verbose:\n",
    "    print(\"Number of training trials: {}\".format(len(seqs)))\n",
    "    print(\"Latent space dimensionality: {}\".format(latent_dimensionality))\n",
    "    print(\n",
    "        \"Observation dimensionality: {}\".format(\n",
    "            has_spikes_bool.sum()\n",
    "        )\n",
    "    )"
   ]
  },
  {
   "cell_type": "markdown",
   "id": "33f5daee-01b9-402a-b102-d9ff6e9151d9",
   "metadata": {},
   "source": [
    "### GPFA"
   ]
  },
  {
   "cell_type": "markdown",
   "id": "a37c6795-f3b7-4feb-ae5c-abde6b81a0cb",
   "metadata": {},
   "source": [
    "We run gpfa, based on core implementation in [elephant](https://elephant.readthedocs.io/en/latest/reference/gpfa.html), but without using Neo spike train preprocessing."
   ]
  },
  {
   "cell_type": "code",
   "execution_count": 58,
   "id": "9f944525-2b6e-471b-8e69-53aefc0af710",
   "metadata": {
    "tags": []
   },
   "outputs": [],
   "source": [
    "from elephant.gpfa import gpfa_core, gpfa_util"
   ]
  },
  {
   "cell_type": "code",
   "execution_count": 60,
   "id": "301cf4ca-efd9-4f65-9cb4-a7eaa6b3eab7",
   "metadata": {
    "tags": []
   },
   "outputs": [
    {
     "name": "stdout",
     "output_type": "stream",
     "text": [
      "Initializing parameters using factor analysis...\n",
      "\n",
      "Fitting GPFA model...\n"
     ]
    }
   ],
   "source": [
    "# The following does the heavy lifting.\n",
    "params_estimated, fit_info = gpfa_core.fit(\n",
    "    seqs_train=seqs,\n",
    "    x_dim=latent_dimensionality,\n",
    "    bin_width=bin_width,\n",
    "    min_var_frac=min_var_frac,\n",
    "    em_max_iters=em_max_iters,\n",
    "    em_tol=em_tol,\n",
    "    tau_init=tau_init,\n",
    "    eps_init=eps_init,\n",
    "    freq_ll=freq_ll,\n",
    "    verbose=verbose\n",
    ")"
   ]
  },
  {
   "cell_type": "markdown",
   "id": "e4c335dd-3f9f-42d9-93ff-7712cf7b8191",
   "metadata": {},
   "source": [
    "And now transform:\n",
    "\n",
    "Obtain trajectories of neural activity in a low-dimensional latent\n",
    "variable space by inferring the posterior mean of the obtained GPFA\n",
    "model and applying an orthonormalization on the latent variable space."
   ]
  },
  {
   "cell_type": "code",
   "execution_count": 67,
   "id": "c24daca3-088a-46cb-9395-d79fe43853cc",
   "metadata": {
    "tags": []
   },
   "outputs": [],
   "source": [
    "transform_info = dict()\n",
    "returned_data=['latent_variable', 'VsmGP']"
   ]
  },
  {
   "cell_type": "code",
   "execution_count": 69,
   "id": "93f1ff06-3cef-48ca-ab9b-8759b1396427",
   "metadata": {
    "tags": []
   },
   "outputs": [],
   "source": [
    "seqs, ll = gpfa_core.exact_inference_with_ll(\n",
    "    seqs, params_estimated, get_ll=True\n",
    ")"
   ]
  },
  {
   "cell_type": "code",
   "execution_count": 70,
   "id": "c18d8cef-4df3-49f1-bffb-3b8e0038e086",
   "metadata": {
    "tags": []
   },
   "outputs": [
    {
     "data": {
      "text/plain": [
       "7096781.785471878"
      ]
     },
     "execution_count": 70,
     "metadata": {},
     "output_type": "execute_result"
    }
   ],
   "source": [
    "ll"
   ]
  },
  {
   "cell_type": "markdown",
   "id": "c59ed976-9fde-4bfd-af0d-08b74f649bd8",
   "metadata": {},
   "source": [
    "seqs has been augmented with latents, Vsm, and VsmGP (GP posterior over time)"
   ]
  },
  {
   "cell_type": "code",
   "execution_count": 72,
   "id": "220c1329-f314-49e9-85ec-4e43731a8dc0",
   "metadata": {
    "tags": []
   },
   "outputs": [
    {
     "data": {
      "text/plain": [
       "('T', 'y', 'latent_variable', 'Vsm', 'VsmGP')"
      ]
     },
     "execution_count": 72,
     "metadata": {},
     "output_type": "execute_result"
    }
   ],
   "source": [
    "seqs.dtype.names"
   ]
  },
  {
   "cell_type": "markdown",
   "id": "7d8f90a0-df0b-411b-a889-b07c4d940d51",
   "metadata": {},
   "source": [
    "e.g. last trial:"
   ]
  },
  {
   "cell_type": "code",
   "execution_count": 74,
   "id": "0943cb59-b6d0-4ad5-89ba-e74d105c6739",
   "metadata": {
    "tags": []
   },
   "outputs": [
    {
     "data": {
      "text/plain": [
       "(95, 316)"
      ]
     },
     "execution_count": 74,
     "metadata": {},
     "output_type": "execute_result"
    }
   ],
   "source": [
    "seqs[-1]['y'].shape"
   ]
  },
  {
   "cell_type": "code",
   "execution_count": 75,
   "id": "8b756cb9-c3f4-41ab-a496-7f80884264ae",
   "metadata": {
    "tags": []
   },
   "outputs": [
    {
     "data": {
      "text/plain": [
       "(12, 316)"
      ]
     },
     "execution_count": 75,
     "metadata": {},
     "output_type": "execute_result"
    }
   ],
   "source": [
    "seqs[-1]['latent_variable'].shape"
   ]
  },
  {
   "cell_type": "code",
   "execution_count": 76,
   "id": "08199821-0d44-4748-9bd7-ce0cb2b351a6",
   "metadata": {
    "tags": []
   },
   "outputs": [
    {
     "data": {
      "text/plain": [
       "(12, 12, 316)"
      ]
     },
     "execution_count": 76,
     "metadata": {},
     "output_type": "execute_result"
    }
   ],
   "source": [
    "seqs[-1]['Vsm'].shape"
   ]
  },
  {
   "cell_type": "code",
   "execution_count": 77,
   "id": "a57f5d84-c77e-4767-a305-ea0399046559",
   "metadata": {
    "tags": []
   },
   "outputs": [
    {
     "data": {
      "text/plain": [
       "(316, 316, 12)"
      ]
     },
     "execution_count": 77,
     "metadata": {},
     "output_type": "execute_result"
    }
   ],
   "source": [
    "seqs[-1]['VsmGP'].shape"
   ]
  },
  {
   "cell_type": "code",
   "execution_count": 78,
   "id": "d0a0d2ac-3138-448c-b56c-2e4cef181439",
   "metadata": {
    "tags": []
   },
   "outputs": [],
   "source": [
    "transform_info[\"log_likelihood\"] = ll\n",
    "transform_info[\"num_bins\"] = seqs[\"T\"]"
   ]
  },
  {
   "cell_type": "markdown",
   "id": "3016ff3f-3543-4f96-8697-c9757e34be5e",
   "metadata": {},
   "source": [
    "Orthonormalize latent space."
   ]
  },
  {
   "cell_type": "code",
   "execution_count": 80,
   "id": "093ac588-44c0-4143-ac0d-08561378bb2f",
   "metadata": {
    "tags": []
   },
   "outputs": [],
   "source": [
    "Corth, seqs = gpfa_core.orthonormalize(params_estimated, seqs)"
   ]
  },
  {
   "cell_type": "code",
   "execution_count": 81,
   "id": "786c131e-1009-4f39-9481-8cf02acd2daa",
   "metadata": {
    "tags": []
   },
   "outputs": [],
   "source": [
    "transform_info[\"Corth\"] = Corth\n",
    "if len(returned_data) == 1:\n",
    "    gpfa_val_result = seqs[returned_data[0]]\n",
    "gpfa_val_result =  {x: seqs[x] for x in returned_data}"
   ]
  },
  {
   "cell_type": "code",
   "execution_count": 82,
   "id": "3791fe99-cba3-44c0-a36f-1e5e6299b03e",
   "metadata": {
    "tags": []
   },
   "outputs": [
    {
     "data": {
      "text/plain": [
       "dict_keys(['latent_variable', 'VsmGP'])"
      ]
     },
     "execution_count": 82,
     "metadata": {},
     "output_type": "execute_result"
    }
   ],
   "source": [
    "gpfa_val_result.keys()"
   ]
  },
  {
   "cell_type": "code",
   "execution_count": 83,
   "id": "4b26858f-7c78-4c27-968b-599ca9be8e3d",
   "metadata": {
    "tags": []
   },
   "outputs": [
    {
     "data": {
      "text/plain": [
       "dict_keys(['covType', 'gamma', 'eps', 'd', 'C', 'R', 'notes', 'Corth'])"
      ]
     },
     "execution_count": 83,
     "metadata": {},
     "output_type": "execute_result"
    }
   ],
   "source": [
    "params_estimated.keys()"
   ]
  },
  {
   "cell_type": "code",
   "execution_count": 85,
   "id": "0849fe02-663b-4117-9c61-cbe13b806322",
   "metadata": {
    "tags": []
   },
   "outputs": [],
   "source": [
    "with open('save_pickles/MaXuan_example_data_set_animal_{}_session_{}_latent_dim_{}.pickle'.format(\n",
    "    animal_id,session_id,latent_dimensionality), 'wb') as f:\n",
    "    pickle.dump({\n",
    "        'params':params_estimated,\n",
    "        'latents':gpfa_val_result\n",
    "    }, f)"
   ]
  },
  {
   "cell_type": "code",
   "execution_count": 86,
   "id": "a0590b33-7295-43d4-9079-010ca6c7a2eb",
   "metadata": {
    "tags": []
   },
   "outputs": [
    {
     "data": {
      "text/plain": [
       "dict_keys(['covType', 'gamma', 'eps', 'd', 'C', 'R', 'notes', 'Corth'])"
      ]
     },
     "execution_count": 86,
     "metadata": {},
     "output_type": "execute_result"
    }
   ],
   "source": [
    "length_scales = params_estimated['gamma']\n",
    "params_estimated.keys()"
   ]
  },
  {
   "cell_type": "code",
   "execution_count": 87,
   "id": "f7f22839-07ca-444c-9fde-2521413a632c",
   "metadata": {
    "tags": []
   },
   "outputs": [
    {
     "data": {
      "text/plain": [
       "array([0.0037585 , 0.04864057, 0.0001781 , 0.00113893, 0.00080056,\n",
       "       0.00157725, 0.00140569, 0.00183747, 0.01120921, 0.00593796,\n",
       "       0.0094439 , 0.01858261])"
      ]
     },
     "execution_count": 87,
     "metadata": {},
     "output_type": "execute_result"
    }
   ],
   "source": [
    "length_scales"
   ]
  },
  {
   "cell_type": "code",
   "execution_count": 91,
   "id": "fc642648-eab6-4182-b9da-cfe07289ed0f",
   "metadata": {
    "tags": []
   },
   "outputs": [
    {
     "data": {
      "text/plain": [
       "(95, 12)"
      ]
     },
     "execution_count": 91,
     "metadata": {},
     "output_type": "execute_result"
    }
   ],
   "source": [
    "GPFA_loadings=params_estimated['C']\n",
    "GPFA_loadings.shape"
   ]
  },
  {
   "cell_type": "markdown",
   "id": "24c63bbd-2050-4786-9e81-6e3947a0660e",
   "metadata": {},
   "source": [
    "GPFA has estimated latent signals for the different trials with appropriate different amount of time points!"
   ]
  },
  {
   "cell_type": "markdown",
   "id": "3bc8f3cb-f89e-4d6f-bacc-d1af3a3fe062",
   "metadata": {},
   "source": [
    "sanity checks:"
   ]
  },
  {
   "cell_type": "code",
   "execution_count": 95,
   "id": "7d31f42d-27a9-4139-b2b0-c3b703b3ddba",
   "metadata": {
    "tags": []
   },
   "outputs": [
    {
     "data": {
      "text/plain": [
       "(239,)"
      ]
     },
     "execution_count": 95,
     "metadata": {},
     "output_type": "execute_result"
    }
   ],
   "source": [
    "gpfa_val_result['latent_variable'].shape"
   ]
  },
  {
   "cell_type": "code",
   "execution_count": 96,
   "id": "1d037872-5d0f-4a44-ad7d-ffb6f09a1bab",
   "metadata": {
    "tags": []
   },
   "outputs": [
    {
     "data": {
      "text/plain": [
       "(239,)"
      ]
     },
     "execution_count": 96,
     "metadata": {},
     "output_type": "execute_result"
    }
   ],
   "source": [
    "df[(df['animal']==animal_id)&(df['session']==session_id)]['trial_id'].unique().shape"
   ]
  },
  {
   "cell_type": "markdown",
   "id": "dbf69e54-2c2d-42d9-a616-f6c63b99ee1b",
   "metadata": {},
   "source": [
    "3 different trials:"
   ]
  },
  {
   "cell_type": "code",
   "execution_count": 99,
   "id": "e3da0e76-5d0f-4396-835b-a3172bfeb58c",
   "metadata": {
    "tags": []
   },
   "outputs": [
    {
     "data": {
      "text/plain": [
       "(12, 398)"
      ]
     },
     "execution_count": 99,
     "metadata": {},
     "output_type": "execute_result"
    }
   ],
   "source": [
    "gpfa_val_result['latent_variable'][0].shape"
   ]
  },
  {
   "cell_type": "code",
   "execution_count": 100,
   "id": "2768c5ea-fa65-4d7a-88a8-993642174714",
   "metadata": {
    "tags": []
   },
   "outputs": [
    {
     "data": {
      "text/plain": [
       "(12, 433)"
      ]
     },
     "execution_count": 100,
     "metadata": {},
     "output_type": "execute_result"
    }
   ],
   "source": [
    "gpfa_val_result['latent_variable'][1].shape"
   ]
  },
  {
   "cell_type": "code",
   "execution_count": 101,
   "id": "2aac1b64-b719-42b7-962d-1c325b493b46",
   "metadata": {
    "tags": []
   },
   "outputs": [
    {
     "data": {
      "text/plain": [
       "(12, 411)"
      ]
     },
     "execution_count": 101,
     "metadata": {},
     "output_type": "execute_result"
    }
   ],
   "source": [
    "gpfa_val_result['latent_variable'][2].shape"
   ]
  },
  {
   "cell_type": "markdown",
   "id": "0e9f2f8b-1c4e-48a4-9301-450e4772a2ae",
   "metadata": {},
   "source": [
    "Plot latent signals for a specified trial_id"
   ]
  },
  {
   "cell_type": "code",
   "execution_count": 104,
   "id": "327c44c3-c67a-4f88-ba0e-8704892301e6",
   "metadata": {
    "tags": []
   },
   "outputs": [],
   "source": [
    "trial_id=7"
   ]
  },
  {
   "cell_type": "code",
   "execution_count": 108,
   "id": "16e9a13c-7cc3-45f5-90e4-9c0e349dce32",
   "metadata": {
    "tags": []
   },
   "outputs": [
    {
     "name": "stdout",
     "output_type": "stream",
     "text": [
      "For session 9, animal 2 and trial 7:\n"
     ]
    }
   ],
   "source": [
    "print('For session {}, animal {} and trial {}:'.format(session_id, animal_id, trial_id))"
   ]
  },
  {
   "cell_type": "code",
   "execution_count": 147,
   "id": "04211d21-3432-4ad6-9889-1ae32fe13ab2",
   "metadata": {
    "tags": []
   },
   "outputs": [
    {
     "data": {
      "image/png": "[encoded data removed]",
      "text/plain": [
       "<Figure size 500x200 with 1 Axes>"
      ]
     },
     "metadata": {},
     "output_type": "display_data"
    }
   ],
   "source": [
    "fig, ax = plt.subplots(1, 1, figsize =(5, 2))\n",
    "\n",
    "for l in range(0,latent_dimensionality):\n",
    "    plt.plot(\n",
    "        range(0,gpfa_val_result['latent_variable'][np.where(df_gpfa['trial_id'].unique()==trial_id)[0][0]].shape[1]),\n",
    "        gpfa_val_result['latent_variable'][np.where(df_gpfa['trial_id'].unique()==trial_id)[0][0]][l,:]\n",
    "    )\n",
    "ax.set_xlabel(\"time\")\n",
    "sns.despine()\n",
    "adjust_spines(ax, ['bottom', 'left'])"
   ]
  },
  {
   "cell_type": "markdown",
   "id": "2d3775a7-f99d-4757-ad1c-5a596525afd5",
   "metadata": {},
   "source": [
    "### Additional possible analyses:"
   ]
  },
  {
   "cell_type": "markdown",
   "id": "48b874e9-c875-4a40-96df-25289785605a",
   "metadata": {},
   "source": [
    "#### Estimate readouts, decode trajectories from latents"
   ]
  },
  {
   "cell_type": "code",
   "execution_count": 115,
   "id": "1e096625-78a1-425e-9a02-9faf5636b289",
   "metadata": {
    "tags": []
   },
   "outputs": [],
   "source": [
    "from decode_utils import estimate_readout_matrix, expected_ll_poisson\n",
    "\n",
    "from sklearn.linear_model import Ridge\n",
    "from sklearn.model_selection import GridSearchCV"
   ]
  },
  {
   "cell_type": "markdown",
   "id": "d9deb1f0-92ef-48fa-b5e1-23a579e5b2b8",
   "metadata": {},
   "source": [
    "Choose animal id, session id and latent dimensionality to load gpfa results"
   ]
  },
  {
   "cell_type": "code",
   "execution_count": 117,
   "id": "6383823a-090d-4212-81c8-f9df750dbf67",
   "metadata": {
    "tags": []
   },
   "outputs": [],
   "source": [
    "animal_id=2\n",
    "session_id=9\n",
    "latent_dimensionality=12"
   ]
  },
  {
   "cell_type": "code",
   "execution_count": 120,
   "id": "b0179a3e-eb35-4bd5-9ea4-d7ce4cb31df4",
   "metadata": {
    "tags": []
   },
   "outputs": [],
   "source": [
    "with open('save_pickles/MaXuan_example_data_set_animal_{}_session_{}_latent_dim_{}.pickle'.format(\n",
    "    animal_id,session_id,latent_dimensionality), 'rb') as f:\n",
    "    gpfa_results=pickle.load(f)"
   ]
  },
  {
   "cell_type": "code",
   "execution_count": 122,
   "id": "366b597d-6740-437b-9974-940b6e7deb75",
   "metadata": {
    "tags": []
   },
   "outputs": [],
   "source": [
    "readout_iter=10\n",
    "C_hat, loss_log = estimate_readout_matrix(\n",
    "    df_gpfa,\n",
    "    neurons,\n",
    "    gpfa_results['latents']['latent_variable'],\n",
    "    dt,\n",
    "    readout_iter\n",
    "    )"
   ]
  },
  {
   "cell_type": "code",
   "execution_count": 128,
   "id": "e8299822-4123-4001-bd2b-3ffbc3891f48",
   "metadata": {},
   "outputs": [
    {
     "data": {
      "text/plain": [
       "torch.Size([398, 96])"
      ]
     },
     "execution_count": 128,
     "metadata": {},
     "output_type": "execute_result"
    }
   ],
   "source": [
    "C_hat(torch.as_tensor(gpfa_val_result['latent_variable'][0],dtype=torch.float32).T).shape"
   ]
  },
  {
   "cell_type": "code",
   "execution_count": 130,
   "id": "dcd33b66-e7b6-4a27-905b-015be48e0767",
   "metadata": {
    "tags": []
   },
   "outputs": [
    {
     "data": {
      "image/png": "[encoded data removed]",
      "text/plain": [
       "<Figure size 200x100 with 1 Axes>"
      ]
     },
     "metadata": {},
     "output_type": "display_data"
    }
   ],
   "source": [
    "fig, ax = plt.subplots(1,1,figsize=(2,1))\n",
    "ax.plot(loss_log)\n",
    "sns.despine()\n",
    "adjust_spines(ax,['bottom', 'left'])"
   ]
  },
  {
   "cell_type": "code",
   "execution_count": 132,
   "id": "4626426b-07db-44a5-b470-16c00d1828e4",
   "metadata": {
    "tags": []
   },
   "outputs": [
    {
     "data": {
      "text/plain": [
       "-71.74160766601562"
      ]
     },
     "execution_count": 132,
     "metadata": {},
     "output_type": "execute_result"
    }
   ],
   "source": [
    "ell_GPFA = expected_ll_poisson(\n",
    "    df_gpfa,\n",
    "    neurons,\n",
    "    gpfa_results['latents']['latent_variable'],\n",
    "    gpfa_results['latents']['VsmGP'],\n",
    "    C_hat,\n",
    "    dt)\n",
    "ell_GPFA.item()"
   ]
  },
  {
   "cell_type": "markdown",
   "id": "8c202021-11e7-49cd-af15-b17d4debbfb7",
   "metadata": {},
   "source": [
    "**ToDo**: ????!!!!"
   ]
  },
  {
   "cell_type": "markdown",
   "id": "a2c4765f-da87-4702-9a77-d0260b2a4c80",
   "metadata": {},
   "source": [
    "Let us try to predict that behaviour from the latents."
   ]
  },
  {
   "cell_type": "code",
   "execution_count": 135,
   "id": "4fe2f483-7c95-479b-8220-def514b7ecac",
   "metadata": {
    "tags": []
   },
   "outputs": [],
   "source": [
    "cursor_position=[]\n",
    "for n,trial_id in enumerate(df_gpfa['trial_id'].unique()):\n",
    "    cursor_pos=np.concatenate(\n",
    "        (df_gpfa[df_gpfa['trial_id']==trial_id]['cursor_pos_x'].values[:,np.newaxis],\n",
    "         df_gpfa[df_gpfa['trial_id']==trial_id]['cursor_pos_y'].values[:,np.newaxis]\n",
    "        ),\n",
    "        axis=1\n",
    "    )\n",
    "    cursor_position.append(cursor_pos)"
   ]
  },
  {
   "cell_type": "code",
   "execution_count": 137,
   "id": "81592204-312c-42f7-af36-231738a3f8a0",
   "metadata": {
    "tags": []
   },
   "outputs": [],
   "source": [
    "trial_id=7"
   ]
  },
  {
   "cell_type": "code",
   "execution_count": 138,
   "id": "9d113724-20e3-498d-94fa-667f936d0ac5",
   "metadata": {
    "tags": []
   },
   "outputs": [],
   "source": [
    "latents=gpfa_results['latents']"
   ]
  },
  {
   "cell_type": "code",
   "execution_count": 139,
   "id": "875e640a-aecb-4aa0-a555-c7dcf8ce6a42",
   "metadata": {
    "tags": []
   },
   "outputs": [],
   "source": [
    "z=latents['latent_variable'][np.where(df_gpfa['trial_id'].unique()==trial_id)[0][0]].T\n",
    "b=cursor_position[np.where(df_gpfa['trial_id'].unique()==trial_id)[0][0]]"
   ]
  },
  {
   "cell_type": "code",
   "execution_count": 140,
   "id": "96d7dbb2-a084-4abd-8420-9260fcccb247",
   "metadata": {
    "tags": []
   },
   "outputs": [
    {
     "data": {
      "text/plain": [
       "(427, 12)"
      ]
     },
     "execution_count": 140,
     "metadata": {},
     "output_type": "execute_result"
    }
   ],
   "source": [
    "z.shape # time x latent dimensionality"
   ]
  },
  {
   "cell_type": "code",
   "execution_count": 149,
   "id": "5ac0e9a7-16f8-4867-a233-6e824b1e6ebe",
   "metadata": {
    "tags": []
   },
   "outputs": [
    {
     "data": {
      "image/png": "[encoded data removed]",
      "text/plain": [
       "<Figure size 500x200 with 1 Axes>"
      ]
     },
     "metadata": {},
     "output_type": "display_data"
    }
   ],
   "source": [
    "fig, ax = plt.subplots(1, 1, figsize =(5,2))\n",
    "\n",
    "for b_dim in range(0,b.shape[1]):\n",
    "    plt.plot(\n",
    "        range(0,b.shape[0]),\n",
    "        b[:,b_dim]\n",
    "    )\n",
    "ax.set_xlabel(\"time\")\n",
    "sns.despine()\n",
    "adjust_spines(ax, ['bottom', 'left'])"
   ]
  },
  {
   "cell_type": "code",
   "execution_count": 150,
   "id": "0c3ee38d-6497-40b8-a50d-54ceb22a7748",
   "metadata": {
    "tags": []
   },
   "outputs": [],
   "source": [
    "gscv_GPFA = GridSearchCV(Ridge(), {'alpha': np.logspace(-7, -1, 100)})"
   ]
  },
  {
   "cell_type": "code",
   "execution_count": 153,
   "id": "c2a5f6c9-05b5-4c25-a3eb-587bcbc9fdff",
   "metadata": {
    "tags": []
   },
   "outputs": [
    {
     "data": {
      "text/html": [
       "<style>#sk-container-id-1 {color: black;background-color: white;}#sk-container-id-1 pre{padding: 0;}#sk-container-id-1 div.sk-toggleable {background-color: white;}#sk-container-id-1 label.sk-toggleable__label {cursor: pointer;display: block;width: 100%;margin-bottom: 0;padding: 0.3em;box-sizing: border-box;text-align: center;}#sk-container-id-1 label.sk-toggleable__label-arrow:before {content: \"▸\";float: left;margin-right: 0.25em;color: #696969;}#sk-container-id-1 label.sk-toggleable__label-arrow:hover:before {color: black;}#sk-container-id-1 div.sk-estimator:hover label.sk-toggleable__label-arrow:before {color: black;}#sk-container-id-1 div.sk-toggleable__content {max-height: 0;max-width: 0;overflow: hidden;text-align: left;background-color: #f0f8ff;}#sk-container-id-1 div.sk-toggleable__content pre {margin: 0.2em;color: black;border-radius: 0.25em;background-color: #f0f8ff;}#sk-container-id-1 input.sk-toggleable__control:checked~div.sk-toggleable__content {max-height: 200px;max-width: 100%;overflow: auto;}#sk-container-id-1 input.sk-toggleable__control:checked~label.sk-toggleable__label-arrow:before {content: \"▾\";}#sk-container-id-1 div.sk-estimator input.sk-toggleable__control:checked~label.sk-toggleable__label {background-color: #d4ebff;}#sk-container-id-1 div.sk-label input.sk-toggleable__control:checked~label.sk-toggleable__label {background-color: #d4ebff;}#sk-container-id-1 input.sk-hidden--visually {border: 0;clip: rect(1px 1px 1px 1px);clip: rect(1px, 1px, 1px, 1px);height: 1px;margin: -1px;overflow: hidden;padding: 0;position: absolute;width: 1px;}#sk-container-id-1 div.sk-estimator {font-family: monospace;background-color: #f0f8ff;border: 1px dotted black;border-radius: 0.25em;box-sizing: border-box;margin-bottom: 0.5em;}#sk-container-id-1 div.sk-estimator:hover {background-color: #d4ebff;}#sk-container-id-1 div.sk-parallel-item::after {content: \"\";width: 100%;border-bottom: 1px solid gray;flex-grow: 1;}#sk-container-id-1 div.sk-label:hover label.sk-toggleable__label {background-color: #d4ebff;}#sk-container-id-1 div.sk-serial::before {content: \"\";position: absolute;border-left: 1px solid gray;box-sizing: border-box;top: 0;bottom: 0;left: 50%;z-index: 0;}#sk-container-id-1 div.sk-serial {display: flex;flex-direction: column;align-items: center;background-color: white;padding-right: 0.2em;padding-left: 0.2em;position: relative;}#sk-container-id-1 div.sk-item {position: relative;z-index: 1;}#sk-container-id-1 div.sk-parallel {display: flex;align-items: stretch;justify-content: center;background-color: white;position: relative;}#sk-container-id-1 div.sk-item::before, #sk-container-id-1 div.sk-parallel-item::before {content: \"\";position: absolute;border-left: 1px solid gray;box-sizing: border-box;top: 0;bottom: 0;left: 50%;z-index: -1;}#sk-container-id-1 div.sk-parallel-item {display: flex;flex-direction: column;z-index: 1;position: relative;background-color: white;}#sk-container-id-1 div.sk-parallel-item:first-child::after {align-self: flex-end;width: 50%;}#sk-container-id-1 div.sk-parallel-item:last-child::after {align-self: flex-start;width: 50%;}#sk-container-id-1 div.sk-parallel-item:only-child::after {width: 0;}#sk-container-id-1 div.sk-dashed-wrapped {border: 1px dashed gray;margin: 0 0.4em 0.5em 0.4em;box-sizing: border-box;padding-bottom: 0.4em;background-color: white;}#sk-container-id-1 div.sk-label label {font-family: monospace;font-weight: bold;display: inline-block;line-height: 1.2em;}#sk-container-id-1 div.sk-label-container {text-align: center;}#sk-container-id-1 div.sk-container {/* jupyter's `normalize.less` sets `[hidden] { display: none; }` but bootstrap.min.css set `[hidden] { display: none !important; }` so we also need the `!important` here to be able to override the default hidden behavior on the sphinx rendered scikit-learn.org. See: https://github.com/scikit-learn/scikit-learn/issues/21755 */display: inline-block !important;position: relative;}#sk-container-id-1 div.sk-text-repr-fallback {display: none;}</style><div id=\"sk-container-id-1\" class=\"sk-top-container\"><div class=\"sk-text-repr-fallback\"><pre>GridSearchCV(estimator=Ridge(),\n",
       "             param_grid={&#x27;alpha&#x27;: array([1.00000000e-07, 1.14975700e-07, 1.32194115e-07, 1.51991108e-07,\n",
       "       1.74752840e-07, 2.00923300e-07, 2.31012970e-07, 2.65608778e-07,\n",
       "       3.05385551e-07, 3.51119173e-07, 4.03701726e-07, 4.64158883e-07,\n",
       "       5.33669923e-07, 6.13590727e-07, 7.05480231e-07, 8.11130831e-07,\n",
       "       9.32603347e-07, 1.07226722e-06, 1.23284674e-06, 1.41747...\n",
       "       4.03701726e-03, 4.64158883e-03, 5.33669923e-03, 6.13590727e-03,\n",
       "       7.05480231e-03, 8.11130831e-03, 9.32603347e-03, 1.07226722e-02,\n",
       "       1.23284674e-02, 1.41747416e-02, 1.62975083e-02, 1.87381742e-02,\n",
       "       2.15443469e-02, 2.47707636e-02, 2.84803587e-02, 3.27454916e-02,\n",
       "       3.76493581e-02, 4.32876128e-02, 4.97702356e-02, 5.72236766e-02,\n",
       "       6.57933225e-02, 7.56463328e-02, 8.69749003e-02, 1.00000000e-01])})</pre><b>In a Jupyter environment, please rerun this cell to show the HTML representation or trust the notebook. <br />On GitHub, the HTML representation is unable to render, please try loading this page with nbviewer.org.</b></div><div class=\"sk-container\" hidden><div class=\"sk-item sk-dashed-wrapped\"><div class=\"sk-label-container\"><div class=\"sk-label sk-toggleable\"><input class=\"sk-toggleable__control sk-hidden--visually\" id=\"sk-estimator-id-1\" type=\"checkbox\" ><label for=\"sk-estimator-id-1\" class=\"sk-toggleable__label sk-toggleable__label-arrow\">GridSearchCV</label><div class=\"sk-toggleable__content\"><pre>GridSearchCV(estimator=Ridge(),\n",
       "             param_grid={&#x27;alpha&#x27;: array([1.00000000e-07, 1.14975700e-07, 1.32194115e-07, 1.51991108e-07,\n",
       "       1.74752840e-07, 2.00923300e-07, 2.31012970e-07, 2.65608778e-07,\n",
       "       3.05385551e-07, 3.51119173e-07, 4.03701726e-07, 4.64158883e-07,\n",
       "       5.33669923e-07, 6.13590727e-07, 7.05480231e-07, 8.11130831e-07,\n",
       "       9.32603347e-07, 1.07226722e-06, 1.23284674e-06, 1.41747...\n",
       "       4.03701726e-03, 4.64158883e-03, 5.33669923e-03, 6.13590727e-03,\n",
       "       7.05480231e-03, 8.11130831e-03, 9.32603347e-03, 1.07226722e-02,\n",
       "       1.23284674e-02, 1.41747416e-02, 1.62975083e-02, 1.87381742e-02,\n",
       "       2.15443469e-02, 2.47707636e-02, 2.84803587e-02, 3.27454916e-02,\n",
       "       3.76493581e-02, 4.32876128e-02, 4.97702356e-02, 5.72236766e-02,\n",
       "       6.57933225e-02, 7.56463328e-02, 8.69749003e-02, 1.00000000e-01])})</pre></div></div></div><div class=\"sk-parallel\"><div class=\"sk-parallel-item\"><div class=\"sk-item\"><div class=\"sk-label-container\"><div class=\"sk-label sk-toggleable\"><input class=\"sk-toggleable__control sk-hidden--visually\" id=\"sk-estimator-id-2\" type=\"checkbox\" ><label for=\"sk-estimator-id-2\" class=\"sk-toggleable__label sk-toggleable__label-arrow\">estimator: Ridge</label><div class=\"sk-toggleable__content\"><pre>Ridge()</pre></div></div></div><div class=\"sk-serial\"><div class=\"sk-item\"><div class=\"sk-estimator sk-toggleable\"><input class=\"sk-toggleable__control sk-hidden--visually\" id=\"sk-estimator-id-3\" type=\"checkbox\" ><label for=\"sk-estimator-id-3\" class=\"sk-toggleable__label sk-toggleable__label-arrow\">Ridge</label><div class=\"sk-toggleable__content\"><pre>Ridge()</pre></div></div></div></div></div></div></div></div></div></div>"
      ],
      "text/plain": [
       "GridSearchCV(estimator=Ridge(),\n",
       "             param_grid={'alpha': array([1.00000000e-07, 1.14975700e-07, 1.32194115e-07, 1.51991108e-07,\n",
       "       1.74752840e-07, 2.00923300e-07, 2.31012970e-07, 2.65608778e-07,\n",
       "       3.05385551e-07, 3.51119173e-07, 4.03701726e-07, 4.64158883e-07,\n",
       "       5.33669923e-07, 6.13590727e-07, 7.05480231e-07, 8.11130831e-07,\n",
       "       9.32603347e-07, 1.07226722e-06, 1.23284674e-06, 1.41747...\n",
       "       4.03701726e-03, 4.64158883e-03, 5.33669923e-03, 6.13590727e-03,\n",
       "       7.05480231e-03, 8.11130831e-03, 9.32603347e-03, 1.07226722e-02,\n",
       "       1.23284674e-02, 1.41747416e-02, 1.62975083e-02, 1.87381742e-02,\n",
       "       2.15443469e-02, 2.47707636e-02, 2.84803587e-02, 3.27454916e-02,\n",
       "       3.76493581e-02, 4.32876128e-02, 4.97702356e-02, 5.72236766e-02,\n",
       "       6.57933225e-02, 7.56463328e-02, 8.69749003e-02, 1.00000000e-01])})"
      ]
     },
     "execution_count": 153,
     "metadata": {},
     "output_type": "execute_result"
    }
   ],
   "source": [
    "gscv_GPFA.fit(z, b)"
   ]
  },
  {
   "cell_type": "code",
   "execution_count": 154,
   "id": "64917e11-f222-4640-a695-be5d4fdc3170",
   "metadata": {
    "tags": []
   },
   "outputs": [],
   "source": [
    "b_hat = gscv_GPFA.predict(z)"
   ]
  },
  {
   "cell_type": "code",
   "execution_count": 156,
   "id": "e0779e78-bcff-436c-8824-af40a02b50f9",
   "metadata": {
    "tags": []
   },
   "outputs": [
    {
     "data": {
      "image/png": "[encoded data removed]",
      "text/plain": [
       "<Figure size 500x200 with 1 Axes>"
      ]
     },
     "metadata": {},
     "output_type": "display_data"
    }
   ],
   "source": [
    "fig, ax = plt.subplots(1, 1, figsize =(5,2))\n",
    "\n",
    "for b_dim in range(0,b.shape[1]):\n",
    "    ax.plot(\n",
    "        range(0,b.shape[0]),\n",
    "        b[:,b_dim],\n",
    "        label='True trajectory dim {}'.format(b_dim)\n",
    "    )\n",
    "    ax.plot(\n",
    "        range(0,b.shape[0]),\n",
    "        b_hat[:,b_dim],\n",
    "        label='Predicted trajectory dim {}'.format(b_dim)\n",
    "    )\n",
    "ax.legend(loc='best')\n",
    "ax.set_xlabel(\"time\")\n",
    "sns.despine()\n",
    "adjust_spines(ax, ['bottom', 'left'])"
   ]
  },
  {
   "cell_type": "code",
   "execution_count": 159,
   "id": "a8ac258f-d63c-473e-8458-5aa0a73763c1",
   "metadata": {
    "tags": []
   },
   "outputs": [
    {
     "data": {
      "image/png": "[encoded data removed]",
      "text/plain": [
       "<Figure size 300x300 with 1 Axes>"
      ]
     },
     "metadata": {},
     "output_type": "display_data"
    }
   ],
   "source": [
    "fig, ax = plt.subplots(1,1,figsize=(3,3))\n",
    "ax.plot(b[:,0],b[:,1], '.', label='True trajectory')\n",
    "ax.plot(b_hat[:,0],b_hat[:,1], '.', label='Predicted trajectory')\n",
    "ax.legend(loc='best')\n",
    "sns.despine()\n",
    "adjust_spines(ax, ['bottom', 'left'])"
   ]
  },
  {
   "cell_type": "markdown",
   "id": "f76f6ea2-1faf-41a8-9344-ea56b968b40c",
   "metadata": {},
   "source": [
    "R^2 score:"
   ]
  },
  {
   "cell_type": "code",
   "execution_count": 161,
   "id": "24451ddf-eb08-44b2-8806-42c9ca72d87b",
   "metadata": {
    "tags": []
   },
   "outputs": [
    {
     "data": {
      "text/plain": [
       "0.7728430340592006"
      ]
     },
     "execution_count": 161,
     "metadata": {},
     "output_type": "execute_result"
    }
   ],
   "source": [
    "np.mean(1-np.sum((b-b_hat)**2, axis=1)/np.sum((b-b.mean(axis=0))**2,axis=1))"
   ]
  },
  {
   "cell_type": "markdown",
   "id": "d74dc2bb-4923-4b97-a997-346d01541073",
   "metadata": {},
   "source": [
    "Depending on the latent dimensionality you specify, the $R^2$ score can vary greatly. Perhaps just 4 latent dimensions, even though they capture most of the variance (>80%) is not enough to predict behaviour very well (negative $R^2$ scores). But e.g. 12 latent dimensions seems to do very well.\n",
    "What about first predicting the firing rates before regressing onto behaviour though?"
   ]
  },
  {
   "cell_type": "code",
   "execution_count": 164,
   "id": "2f65caa8-58aa-4117-983d-1593ccc9eb10",
   "metadata": {
    "tags": []
   },
   "outputs": [],
   "source": [
    "gscv_GPFA = GridSearchCV(Ridge(), {'alpha': np.logspace(-7, -1, 100)})"
   ]
  },
  {
   "cell_type": "code",
   "execution_count": 165,
   "id": "f5b2b577-1e2a-432b-8302-ce5e617aea4b",
   "metadata": {
    "tags": []
   },
   "outputs": [],
   "source": [
    "rates=dt*np.exp(C_hat(torch.as_tensor(z,dtype=torch.float32)).detach().numpy())"
   ]
  },
  {
   "cell_type": "code",
   "execution_count": 203,
   "id": "263e1369-e2d0-467a-a249-c02a7c1f12ec",
   "metadata": {
    "tags": []
   },
   "outputs": [],
   "source": [
    "gscv_GPFA.fit(rates, b)"
   ]
  },
  {
   "cell_type": "code",
   "execution_count": 171,
   "id": "1874a024-cc49-4022-8295-53876c296a22",
   "metadata": {
    "tags": []
   },
   "outputs": [],
   "source": [
    "b_hat = gscv_GPFA.predict(rates)"
   ]
  },
  {
   "cell_type": "code",
   "execution_count": 172,
   "id": "4d198aaf-57c6-4162-a6f3-19a5628ac1fb",
   "metadata": {
    "tags": []
   },
   "outputs": [
    {
     "data": {
      "image/png": "[encoded data removed]",
      "text/plain": [
       "<Figure size 500x200 with 1 Axes>"
      ]
     },
     "metadata": {},
     "output_type": "display_data"
    }
   ],
   "source": [
    "fig, ax = plt.subplots(1, 1, figsize =(5,2))\n",
    "\n",
    "for b_dim in range(0,b.shape[1]):\n",
    "    ax.plot(\n",
    "        range(0,b.shape[0]),\n",
    "        b[:,b_dim],\n",
    "        label='True latent dim {}'.format(b_dim)\n",
    "    )\n",
    "    ax.plot(\n",
    "        range(0,b.shape[0]),\n",
    "        b_hat[:,b_dim],\n",
    "        label='Predict latent dim {}'.format(b_dim)\n",
    "    )\n",
    "ax.legend(loc='best')\n",
    "ax.set_xlabel(\"time\")\n",
    "sns.despine()\n",
    "adjust_spines(ax, ['bottom', 'left'])"
   ]
  },
  {
   "cell_type": "code",
   "execution_count": 174,
   "id": "e5dcba4d-d70b-4fa5-8c20-1bd2c6955fde",
   "metadata": {
    "tags": []
   },
   "outputs": [
    {
     "data": {
      "image/png": "[encoded data removed]",
      "text/plain": [
       "<Figure size 300x300 with 1 Axes>"
      ]
     },
     "metadata": {},
     "output_type": "display_data"
    }
   ],
   "source": [
    "fig, ax = plt.subplots(1,1,figsize=(3,3))\n",
    "ax.plot(b[:,0],b[:,1], '.', label='True trajectory')\n",
    "ax.plot(b_hat[:,0],b_hat[:,1], '.', label='Predicted trajectory')\n",
    "ax.legend(loc='best')\n",
    "sns.despine()\n",
    "adjust_spines(ax, ['bottom', 'left'])"
   ]
  },
  {
   "cell_type": "code",
   "execution_count": 178,
   "id": "85338d9a-10a1-48cd-ad8c-154227805642",
   "metadata": {
    "tags": []
   },
   "outputs": [
    {
     "data": {
      "text/plain": [
       "0.9928275587954242"
      ]
     },
     "execution_count": 178,
     "metadata": {},
     "output_type": "execute_result"
    }
   ],
   "source": [
    "np.mean(1-np.sum((b-b_hat)**2, axis=1)/np.sum((b-b.mean(axis=0))**2,axis=1))"
   ]
  },
  {
   "cell_type": "markdown",
   "id": "e1454b90-1c2f-4e55-94da-a6110b3ba34b",
   "metadata": {},
   "source": [
    "### Loading structure"
   ]
  },
  {
   "cell_type": "code",
   "execution_count": 183,
   "id": "058e0bb7-8def-45a7-890d-21c62cc7fca0",
   "metadata": {
    "tags": []
   },
   "outputs": [
    {
     "data": {
      "text/plain": [
       "array([0.0037585 , 0.04864057, 0.0001781 , 0.00113893, 0.00080056,\n",
       "       0.00157725, 0.00140569, 0.00183747, 0.01120921, 0.00593796,\n",
       "       0.0094439 , 0.01858261])"
      ]
     },
     "execution_count": 183,
     "metadata": {},
     "output_type": "execute_result"
    }
   ],
   "source": [
    "params_estimated['gamma']"
   ]
  },
  {
   "cell_type": "markdown",
   "id": "1c73dad5-fa60-499e-9f94-ed2f412368a5",
   "metadata": {},
   "source": [
    "Higher gamma --> faster timescale (smaller tau), you can check with plotting a certain dimension"
   ]
  },
  {
   "cell_type": "code",
   "execution_count": 187,
   "id": "c43d8f62-4ced-47f4-ae53-f1cbd0e2f676",
   "metadata": {
    "tags": []
   },
   "outputs": [
    {
     "data": {
      "image/png": "[encoded data removed]",
      "text/plain": [
       "<Figure size 400x200 with 1 Axes>"
      ]
     },
     "metadata": {},
     "output_type": "display_data"
    }
   ],
   "source": [
    "fig, ax = plt.subplots(1, 1, figsize =(4, 2))\n",
    "\n",
    "for l in range(11,12):\n",
    "    plt.plot(\n",
    "        range(0,gpfa_val_result['latent_variable'][np.where(df_gpfa['trial_id'].unique()==trial_id)[0][0]].shape[1]),\n",
    "        gpfa_val_result['latent_variable'][np.where(df_gpfa['trial_id'].unique()==trial_id)[0][0]][l,:]\n",
    "    )\n",
    "ax.set_xlabel(\"time\")\n",
    "sns.despine()\n",
    "adjust_spines(ax, ['bottom', 'left'])"
   ]
  },
  {
   "cell_type": "markdown",
   "id": "1f312892-344b-4867-bdcf-32329a0e63c3",
   "metadata": {},
   "source": [
    "Possibly sort by time / 'length' scale:"
   ]
  },
  {
   "cell_type": "code",
   "execution_count": 190,
   "id": "92aa32eb-25d7-4036-8154-520b80f209bd",
   "metadata": {
    "tags": []
   },
   "outputs": [
    {
     "data": {
      "text/plain": [
       "array([ 2,  4,  3,  6,  5,  7,  0,  9, 10,  8, 11,  1])"
      ]
     },
     "execution_count": 190,
     "metadata": {},
     "output_type": "execute_result"
    }
   ],
   "source": [
    "length_scale_sort = np.argsort(params_estimated['gamma']) # high gamma to low\n",
    "length_scale_sort"
   ]
  },
  {
   "cell_type": "markdown",
   "id": "78b9c2da-ed59-4072-b367-6a0441ddec2a",
   "metadata": {},
   "source": [
    "Choose:"
   ]
  },
  {
   "cell_type": "code",
   "execution_count": 225,
   "id": "b00b0646-31b1-495c-ab28-ce9a0f7a7902",
   "metadata": {
    "tags": []
   },
   "outputs": [],
   "source": [
    "#GPFA_loadings = params_estimated['Corth'] # normalized\n",
    "GPFA_loadings = params_estimated['C'] # not normalized\n",
    "#GPFA_loadings = params_estimated['C'][:,length_scale_sort] # not normalized, shuffled columns\n",
    "#GPFA_loadings = C_hat.weight.detach().numpy()"
   ]
  },
  {
   "cell_type": "code",
   "execution_count": 227,
   "id": "39852ae0-bbd4-4713-bb92-249bc65fb328",
   "metadata": {},
   "outputs": [],
   "source": [
    "from sklearn.cluster import KMeans\n",
    "kmeans = KMeans(n_clusters=3, random_state=17, n_init=1000).fit(GPFA_loadings)"
   ]
  },
  {
   "cell_type": "code",
   "execution_count": 228,
   "id": "ead3fc9f-30e3-4276-8abb-0187c0a7d08b",
   "metadata": {
    "tags": []
   },
   "outputs": [],
   "source": [
    "clusters = kmeans.labels_"
   ]
  },
  {
   "cell_type": "code",
   "execution_count": 229,
   "id": "31a9af68-b913-4a5b-b815-501ef93ab4f3",
   "metadata": {
    "tags": []
   },
   "outputs": [],
   "source": [
    "from sklearn.decomposition import PCA\n",
    "pca = PCA(n_components=2)\n",
    "z=pca.fit_transform(GPFA_loadings)"
   ]
  },
  {
   "cell_type": "code",
   "execution_count": 230,
   "id": "17edcfb5-ca67-425b-b05b-7fbf4d75a72a",
   "metadata": {
    "tags": []
   },
   "outputs": [
    {
     "data": {
      "image/png": "[encoded data removed]",
      "text/plain": [
       "<Figure size 300x300 with 1 Axes>"
      ]
     },
     "metadata": {},
     "output_type": "display_data"
    }
   ],
   "source": [
    "fig, ax = plt.subplots(1,1,figsize=(3,3))\n",
    "for c in np.unique(clusters):\n",
    "    ax.scatter(z[clusters==c,0], z[clusters==c,1])\n",
    "ax.set_title('{} ,animal id={}, session id={}'.format(parquet_file_path.split('/')[1].split('.')[0], animal_id, session_id))\n",
    "sns.despine(ax=ax)\n",
    "adjust_spines(ax, ['left', 'bottom'])"
   ]
  },
  {
   "cell_type": "markdown",
   "id": "6136f6a0-7786-453b-b759-a5f427c4efd7",
   "metadata": {},
   "source": [
    "Often, one would find more structure in unnormalized loading matrix $C$. I do not know why yet."
   ]
  }
 ],
 "metadata": {
  "kernelspec": {
   "display_name": "Python 3 (ipykernel)",
   "language": "python",
   "name": "python3"
  },
  "language_info": {
   "codemirror_mode": {
    "name": "ipython",
    "version": 3
   },
   "file_extension": ".py",
   "mimetype": "text/x-python",
   "name": "python",
   "nbconvert_exporter": "python",
   "pygments_lexer": "ipython3",
   "version": "3.11.7"
  }
 },
 "nbformat": 4,
 "nbformat_minor": 5
}
